{
 "cells": [
  {
   "cell_type": "code",
   "execution_count": 2,
   "metadata": {},
   "outputs": [],
   "source": [
    "import tensorflow as tf\n",
    "import numpy as np\n",
    "import matplotlib.pyplot as plt\n",
    "import tensorflow_datasets as tfds\n",
    "\n",
    "# Layers Imports\n",
    "from tensorflow.keras.layers import Dense , InputLayer , Conv2D , MaxPool2D , Flatten , BatchNormalization\n",
    "from tensorflow.keras.models import Sequential\n",
    "\n",
    "# Compiling imports\n",
    "\n",
    "from tensorflow.keras.optimizers import Adam\n",
    "from tensorflow.keras.losses import BinaryCrossentropy\n"
   ]
  },
  {
   "cell_type": "code",
   "execution_count": 3,
   "metadata": {},
   "outputs": [
    {
     "data": {
      "text/plain": [
       "tfds.core.DatasetInfo(\n",
       "    name='malaria',\n",
       "    full_name='malaria/1.0.0',\n",
       "    description=\"\"\"\n",
       "    The Malaria dataset contains a total of 27,558 cell images with equal instances\n",
       "    of parasitized and uninfected cells from the thin blood smear slide images of\n",
       "    segmented cells.\n",
       "    \"\"\",\n",
       "    homepage='https://lhncbc.nlm.nih.gov/publication/pub9932',\n",
       "    data_dir='C:\\\\Users\\\\SHUBHAM RAJ\\\\tensorflow_datasets\\\\malaria\\\\1.0.0',\n",
       "    file_format=tfrecord,\n",
       "    download_size=337.08 MiB,\n",
       "    dataset_size=317.62 MiB,\n",
       "    features=FeaturesDict({\n",
       "        'image': Image(shape=(None, None, 3), dtype=uint8),\n",
       "        'label': ClassLabel(shape=(), dtype=int64, num_classes=2),\n",
       "    }),\n",
       "    supervised_keys=('image', 'label'),\n",
       "    disable_shuffling=False,\n",
       "    splits={\n",
       "        'train': <SplitInfo num_examples=27558, num_shards=4>,\n",
       "    },\n",
       "    citation=\"\"\"@article{rajaraman2018pre,\n",
       "      title={Pre-trained convolutional neural networks as feature extractors toward\n",
       "      improved malaria parasite detection in thin blood smear images},\n",
       "      author={Rajaraman, Sivaramakrishnan and Antani, Sameer K and Poostchi, Mahdieh\n",
       "      and Silamut, Kamolrat and Hossain, Md A and Maude, Richard J and Jaeger,\n",
       "      Stefan and Thoma, George R},\n",
       "      journal={PeerJ},\n",
       "      volume={6},\n",
       "      pages={e4568},\n",
       "      year={2018},\n",
       "      publisher={PeerJ Inc.}\n",
       "    }\"\"\",\n",
       ")"
      ]
     },
     "execution_count": 3,
     "metadata": {},
     "output_type": "execute_result"
    }
   ],
   "source": [
    "dataset , dataset_info = tfds.load('malaria' , with_info=True , as_supervised = True , shuffle_files = True , split=['train'])\n",
    "dataset_info"
   ]
  },
  {
   "cell_type": "code",
   "execution_count": 4,
   "metadata": {},
   "outputs": [],
   "source": [
    "def splits(dataset , TRAIN_RATIO , VAL_RATIO , TEST_RATIO):\n",
    "    DATASET_SIZE = len(dataset)\n",
    "\n",
    "    train_dataset = dataset.take(int(TRAIN_RATIO * DATASET_SIZE))\n",
    "\n",
    "    val_dataset = dataset.skip(int(TRAIN_RATIO * DATASET_SIZE))\n",
    "    val_dataset = dataset.take(int(VAL_RATIO * DATASET_SIZE))\n",
    "\n",
    "    test_dataset = dataset.skip(int(TRAIN_RATIO * DATASET_SIZE))\n",
    "    test_dataset = dataset.skip(int(VAL_RATIO * DATASET_SIZE))\n",
    "    test_dataset = dataset.take(int(TEST_RATIO * DATASET_SIZE))\n",
    "\n",
    "    return train_dataset , val_dataset , test_dataset\n",
    "\n",
    "\n",
    "train_dataset , val_dataset , test_dataset = splits(dataset[0] , 0.6 , 0.2 , 0.2)"
   ]
  },
  {
   "cell_type": "markdown",
   "metadata": {},
   "source": [
    "DATA PREPROCESSING"
   ]
  },
  {
   "cell_type": "code",
   "execution_count": 5,
   "metadata": {},
   "outputs": [],
   "source": [
    "IMG_SIZE = 224\n",
    "def resize_rescale(image , label):\n",
    "    return tf.image.resize(image , (IMG_SIZE,IMG_SIZE))/255.0 , label\n",
    "\n",
    "train_dataset = train_dataset.map(resize_rescale)\n",
    "val_dataset = val_dataset.map(resize_rescale)\n",
    "test_dataset = test_dataset.map(resize_rescale)\n",
    "\n",
    "train_dataset = train_dataset.shuffle(buffer_size = 8 , reshuffle_each_iteration = True ).batch(32).prefetch(tf.data.AUTOTUNE)\n",
    "val_dataset = val_dataset.shuffle(buffer_size = 8 , reshuffle_each_iteration = True ).batch(32).prefetch(tf.data.AUTOTUNE)\n",
    "test_dataset = test_dataset.batch(1)"
   ]
  },
  {
   "cell_type": "markdown",
   "metadata": {},
   "source": [
    " MODEL BUILDING"
   ]
  },
  {
   "cell_type": "code",
   "execution_count": 6,
   "metadata": {},
   "outputs": [],
   "source": [
    "model = Sequential([\n",
    "\n",
    "    InputLayer(input_shape=(IMG_SIZE,IMG_SIZE,3)),\n",
    "\n",
    "    Conv2D(filters=6 , kernel_size=5 , strides=1 ,padding ='valid' , activation='relu'),\n",
    "    BatchNormalization(),\n",
    "    MaxPool2D(pool_size=2 , strides =2 ),\n",
    "\n",
    "    Conv2D(filters=16 , kernel_size=5 , strides=1 ,padding ='valid' , activation='relu'),\n",
    "    MaxPool2D(pool_size=2 , strides =2 ),\n",
    "\n",
    "    Flatten(),\n",
    "\n",
    "    Dense(100 , activation='relu'),\n",
    "    BatchNormalization(),\n",
    "    Dense(10 , activation='relu'),\n",
    "    Dense(1 , activation='sigmoid')\n",
    "\n",
    "])"
   ]
  },
  {
   "cell_type": "markdown",
   "metadata": {},
   "source": [
    "EVALUATION"
   ]
  },
  {
   "cell_type": "code",
   "execution_count": 7,
   "metadata": {},
   "outputs": [
    {
     "name": "stdout",
     "output_type": "stream",
     "text": [
      "Epoch 1/30\n",
      "517/517 [==============================] - 786s 2s/step - loss: 0.5406 - accuracy: 0.7203 - val_loss: 1.1829 - val_accuracy: 0.4972\n",
      "Epoch 2/30\n",
      "517/517 [==============================] - 754s 1s/step - loss: 0.2608 - accuracy: 0.9056 - val_loss: 0.2172 - val_accuracy: 0.9388\n",
      "Epoch 3/30\n",
      "517/517 [==============================] - 1005s 2s/step - loss: 0.4399 - accuracy: 0.7825 - val_loss: 0.6256 - val_accuracy: 0.6427\n",
      "Epoch 4/30\n",
      "517/517 [==============================] - 862s 2s/step - loss: 0.5064 - accuracy: 0.7543 - val_loss: 2.1105 - val_accuracy: 0.4957\n",
      "Epoch 5/30\n",
      "517/517 [==============================] - 848s 2s/step - loss: 0.2341 - accuracy: 0.9165 - val_loss: 0.1877 - val_accuracy: 0.9307\n",
      "Epoch 6/30\n",
      "517/517 [==============================] - 833s 2s/step - loss: 0.1911 - accuracy: 0.9344 - val_loss: 0.4607 - val_accuracy: 0.9461\n",
      "Epoch 7/30\n",
      "517/517 [==============================] - 740s 1s/step - loss: 0.2015 - accuracy: 0.9298 - val_loss: 0.7127 - val_accuracy: 0.5023\n",
      "Epoch 8/30\n",
      "517/517 [==============================] - 705s 1s/step - loss: 0.1778 - accuracy: 0.9398 - val_loss: 0.3827 - val_accuracy: 0.9405\n",
      "Epoch 9/30\n",
      "517/517 [==============================] - 692s 1s/step - loss: 0.1613 - accuracy: 0.9448 - val_loss: 0.1655 - val_accuracy: 0.9467\n",
      "Epoch 10/30\n",
      "517/517 [==============================] - 702s 1s/step - loss: 0.1436 - accuracy: 0.9500 - val_loss: 0.1685 - val_accuracy: 0.9347\n",
      "Epoch 11/30\n",
      "517/517 [==============================] - 697s 1s/step - loss: 0.1343 - accuracy: 0.9542 - val_loss: 0.2650 - val_accuracy: 0.8998\n",
      "Epoch 12/30\n",
      "517/517 [==============================] - 695s 1s/step - loss: 0.1357 - accuracy: 0.9532 - val_loss: 0.1522 - val_accuracy: 0.9456\n",
      "Epoch 13/30\n",
      "517/517 [==============================] - 701s 1s/step - loss: 0.1089 - accuracy: 0.9634 - val_loss: 0.1267 - val_accuracy: 0.9474\n",
      "Epoch 14/30\n",
      "517/517 [==============================] - 690s 1s/step - loss: 0.1010 - accuracy: 0.9632 - val_loss: 0.0904 - val_accuracy: 0.9675\n",
      "Epoch 15/30\n",
      "517/517 [==============================] - 696s 1s/step - loss: 0.1012 - accuracy: 0.9647 - val_loss: 0.2631 - val_accuracy: 0.8790\n",
      "Epoch 16/30\n",
      "517/517 [==============================] - 692s 1s/step - loss: 0.0808 - accuracy: 0.9707 - val_loss: 0.5459 - val_accuracy: 0.7599\n",
      "Epoch 17/30\n",
      "517/517 [==============================] - 694s 1s/step - loss: 0.0791 - accuracy: 0.9681 - val_loss: 0.1601 - val_accuracy: 0.9521\n",
      "Epoch 18/30\n",
      "517/517 [==============================] - 762s 1s/step - loss: 0.0685 - accuracy: 0.9736 - val_loss: 0.0798 - val_accuracy: 0.9713\n",
      "Epoch 19/30\n",
      "517/517 [==============================] - 796s 2s/step - loss: 0.0549 - accuracy: 0.9792 - val_loss: 0.0859 - val_accuracy: 0.9728\n",
      "Epoch 20/30\n",
      "517/517 [==============================] - 769s 1s/step - loss: 0.0521 - accuracy: 0.9800 - val_loss: 0.0904 - val_accuracy: 0.9604\n",
      "Epoch 21/30\n",
      "517/517 [==============================] - 607s 1s/step - loss: 0.0480 - accuracy: 0.9823 - val_loss: 0.0538 - val_accuracy: 0.9764\n",
      "Epoch 22/30\n",
      "517/517 [==============================] - 577s 1s/step - loss: 0.0491 - accuracy: 0.9813 - val_loss: 0.0604 - val_accuracy: 0.9710\n",
      "Epoch 23/30\n",
      "517/517 [==============================] - 581s 1s/step - loss: 0.0532 - accuracy: 0.9793 - val_loss: 0.0471 - val_accuracy: 0.9777\n",
      "Epoch 24/30\n",
      "517/517 [==============================] - 581s 1s/step - loss: 0.0392 - accuracy: 0.9853 - val_loss: 0.0563 - val_accuracy: 0.9799\n",
      "Epoch 25/30\n",
      "517/517 [==============================] - 576s 1s/step - loss: 0.0338 - accuracy: 0.9861 - val_loss: 0.0715 - val_accuracy: 0.9797\n",
      "Epoch 26/30\n",
      "517/517 [==============================] - 622s 1s/step - loss: 0.0389 - accuracy: 0.9858 - val_loss: 0.0616 - val_accuracy: 0.9757\n",
      "Epoch 27/30\n",
      "517/517 [==============================] - 577s 1s/step - loss: 0.1503 - accuracy: 0.9418 - val_loss: 0.1177 - val_accuracy: 0.9637\n",
      "Epoch 28/30\n",
      "517/517 [==============================] - 585s 1s/step - loss: 0.0724 - accuracy: 0.9737 - val_loss: 0.0652 - val_accuracy: 0.9771\n",
      "Epoch 29/30\n",
      "517/517 [==============================] - 580s 1s/step - loss: 0.0366 - accuracy: 0.9855 - val_loss: 1.1242 - val_accuracy: 0.9673\n",
      "Epoch 30/30\n",
      "517/517 [==============================] - 574s 1s/step - loss: 0.0270 - accuracy: 0.9889 - val_loss: 0.0443 - val_accuracy: 0.9817\n",
      "5511/5511 [==============================] - 69s 12ms/step - loss: 0.0444 - accuracy: 0.9817\n"
     ]
    },
    {
     "data": {
      "text/plain": [
       "[0.044433921575546265, 0.981673002243042]"
      ]
     },
     "execution_count": 7,
     "metadata": {},
     "output_type": "execute_result"
    }
   ],
   "source": [
    "model.compile(optimizer=Adam(learning_rate=0.01) , loss = BinaryCrossentropy(), metrics='accuracy')\n",
    "\n",
    "# Training\n",
    "\n",
    "history =  model.fit(train_dataset , validation_data = val_dataset, epochs = 30, verbose = 1)\n",
    "\n",
    "# Evaluation\n",
    "model.evaluate(test_dataset)"
   ]
  },
  {
   "cell_type": "markdown",
   "metadata": {},
   "source": [
    "saving the model to deply on streamlit app"
   ]
  },
  {
   "cell_type": "code",
   "execution_count": null,
   "metadata": {},
   "outputs": [],
   "source": [
    "model.save(\"malaria_detector.h5\")"
   ]
  }
 ],
 "metadata": {
  "kernelspec": {
   "display_name": "base",
   "language": "python",
   "name": "python3"
  },
  "language_info": {
   "codemirror_mode": {
    "name": "ipython",
    "version": 3
   },
   "file_extension": ".py",
   "mimetype": "text/x-python",
   "name": "python",
   "nbconvert_exporter": "python",
   "pygments_lexer": "ipython3",
   "version": "3.10.9"
  }
 },
 "nbformat": 4,
 "nbformat_minor": 2
}
